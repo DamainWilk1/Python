{
 "cells": [
  {
   "cell_type": "code",
   "execution_count": 1,
   "id": "fa5d8c14",
   "metadata": {},
   "outputs": [],
   "source": [
    "import pandas as pd\n",
    "import matplotlib.pyplot as plt"
   ]
  },
  {
   "cell_type": "code",
   "execution_count": 2,
   "id": "f434e729",
   "metadata": {},
   "outputs": [],
   "source": [
    "file_path = \"sets.csv\"\n",
    "sets = pd.read_csv(file_path)"
   ]
  },
  {
   "cell_type": "code",
   "execution_count": 13,
   "id": "08b3eb51",
   "metadata": {},
   "outputs": [
    {
     "name": "stdout",
     "output_type": "stream",
     "text": [
      "\n",
      "Liczba rekordów w pliku: 22760\n"
     ]
    }
   ],
   "source": [
    "num_records = sets.shape[0]\n",
    "print(\"\\nLiczba rekordów w pliku:\", num_records)"
   ]
  },
  {
   "cell_type": "code",
   "execution_count": 18,
   "id": "fab6f84e",
   "metadata": {},
   "outputs": [
    {
     "name": "stdout",
     "output_type": "stream",
     "text": [
      "Pierwsze 10 rekordów:\n"
     ]
    },
    {
     "data": {
      "text/html": [
       "<div>\n",
       "<style scoped>\n",
       "    .dataframe tbody tr th:only-of-type {\n",
       "        vertical-align: middle;\n",
       "    }\n",
       "\n",
       "    .dataframe tbody tr th {\n",
       "        vertical-align: top;\n",
       "    }\n",
       "\n",
       "    .dataframe thead th {\n",
       "        text-align: right;\n",
       "    }\n",
       "</style>\n",
       "<table border=\"1\" class=\"dataframe\">\n",
       "  <thead>\n",
       "    <tr style=\"text-align: right;\">\n",
       "      <th></th>\n",
       "      <th>set_num</th>\n",
       "      <th>name</th>\n",
       "      <th>year</th>\n",
       "      <th>theme_id</th>\n",
       "      <th>num_parts</th>\n",
       "      <th>img_url</th>\n",
       "    </tr>\n",
       "  </thead>\n",
       "  <tbody>\n",
       "    <tr>\n",
       "      <th>0</th>\n",
       "      <td>0003977811-1</td>\n",
       "      <td>Ninjago: Book of Adventures</td>\n",
       "      <td>2022</td>\n",
       "      <td>761</td>\n",
       "      <td>1</td>\n",
       "      <td>https://cdn.rebrickable.com/media/sets/0003977...</td>\n",
       "    </tr>\n",
       "    <tr>\n",
       "      <th>1</th>\n",
       "      <td>001-1</td>\n",
       "      <td>Gears</td>\n",
       "      <td>1965</td>\n",
       "      <td>756</td>\n",
       "      <td>43</td>\n",
       "      <td>https://cdn.rebrickable.com/media/sets/001-1.jpg</td>\n",
       "    </tr>\n",
       "    <tr>\n",
       "      <th>2</th>\n",
       "      <td>0011-2</td>\n",
       "      <td>Town Mini-Figures</td>\n",
       "      <td>1979</td>\n",
       "      <td>67</td>\n",
       "      <td>12</td>\n",
       "      <td>https://cdn.rebrickable.com/media/sets/0011-2.jpg</td>\n",
       "    </tr>\n",
       "    <tr>\n",
       "      <th>3</th>\n",
       "      <td>0011-3</td>\n",
       "      <td>Castle 2 for 1 Bonus Offer</td>\n",
       "      <td>1987</td>\n",
       "      <td>199</td>\n",
       "      <td>0</td>\n",
       "      <td>https://cdn.rebrickable.com/media/sets/0011-3.jpg</td>\n",
       "    </tr>\n",
       "    <tr>\n",
       "      <th>4</th>\n",
       "      <td>0012-1</td>\n",
       "      <td>Space Mini-Figures</td>\n",
       "      <td>1979</td>\n",
       "      <td>143</td>\n",
       "      <td>12</td>\n",
       "      <td>https://cdn.rebrickable.com/media/sets/0012-1.jpg</td>\n",
       "    </tr>\n",
       "    <tr>\n",
       "      <th>5</th>\n",
       "      <td>0013-1</td>\n",
       "      <td>Space Mini-Figures</td>\n",
       "      <td>1979</td>\n",
       "      <td>143</td>\n",
       "      <td>12</td>\n",
       "      <td>https://cdn.rebrickable.com/media/sets/0013-1.jpg</td>\n",
       "    </tr>\n",
       "    <tr>\n",
       "      <th>6</th>\n",
       "      <td>0014-1</td>\n",
       "      <td>Space Mini-Figures</td>\n",
       "      <td>1979</td>\n",
       "      <td>143</td>\n",
       "      <td>2</td>\n",
       "      <td>https://cdn.rebrickable.com/media/sets/0014-1.jpg</td>\n",
       "    </tr>\n",
       "    <tr>\n",
       "      <th>7</th>\n",
       "      <td>0015-1</td>\n",
       "      <td>Space Mini-Figures</td>\n",
       "      <td>1979</td>\n",
       "      <td>143</td>\n",
       "      <td>18</td>\n",
       "      <td>https://cdn.rebrickable.com/media/sets/0015-1.jpg</td>\n",
       "    </tr>\n",
       "    <tr>\n",
       "      <th>8</th>\n",
       "      <td>0016-1</td>\n",
       "      <td>Castle Mini Figures</td>\n",
       "      <td>1979</td>\n",
       "      <td>189</td>\n",
       "      <td>15</td>\n",
       "      <td>https://cdn.rebrickable.com/media/sets/0016-1.jpg</td>\n",
       "    </tr>\n",
       "    <tr>\n",
       "      <th>9</th>\n",
       "      <td>002-1</td>\n",
       "      <td>4.5V Samsonite Gears Motor Set</td>\n",
       "      <td>1965</td>\n",
       "      <td>756</td>\n",
       "      <td>3</td>\n",
       "      <td>https://cdn.rebrickable.com/media/sets/002-1.jpg</td>\n",
       "    </tr>\n",
       "  </tbody>\n",
       "</table>\n",
       "</div>"
      ],
      "text/plain": [
       "        set_num                            name  year  theme_id  num_parts  \\\n",
       "0  0003977811-1     Ninjago: Book of Adventures  2022       761          1   \n",
       "1         001-1                           Gears  1965       756         43   \n",
       "2        0011-2               Town Mini-Figures  1979        67         12   \n",
       "3        0011-3      Castle 2 for 1 Bonus Offer  1987       199          0   \n",
       "4        0012-1              Space Mini-Figures  1979       143         12   \n",
       "5        0013-1              Space Mini-Figures  1979       143         12   \n",
       "6        0014-1              Space Mini-Figures  1979       143          2   \n",
       "7        0015-1              Space Mini-Figures  1979       143         18   \n",
       "8        0016-1             Castle Mini Figures  1979       189         15   \n",
       "9         002-1  4.5V Samsonite Gears Motor Set  1965       756          3   \n",
       "\n",
       "                                             img_url  \n",
       "0  https://cdn.rebrickable.com/media/sets/0003977...  \n",
       "1   https://cdn.rebrickable.com/media/sets/001-1.jpg  \n",
       "2  https://cdn.rebrickable.com/media/sets/0011-2.jpg  \n",
       "3  https://cdn.rebrickable.com/media/sets/0011-3.jpg  \n",
       "4  https://cdn.rebrickable.com/media/sets/0012-1.jpg  \n",
       "5  https://cdn.rebrickable.com/media/sets/0013-1.jpg  \n",
       "6  https://cdn.rebrickable.com/media/sets/0014-1.jpg  \n",
       "7  https://cdn.rebrickable.com/media/sets/0015-1.jpg  \n",
       "8  https://cdn.rebrickable.com/media/sets/0016-1.jpg  \n",
       "9   https://cdn.rebrickable.com/media/sets/002-1.jpg  "
      ]
     },
     "execution_count": 18,
     "metadata": {},
     "output_type": "execute_result"
    }
   ],
   "source": [
    "print(\"Pierwsze 10 rekordów:\")\n",
    "sets.head(10)"
   ]
  },
  {
   "cell_type": "code",
   "execution_count": 15,
   "id": "19a8b371",
   "metadata": {},
   "outputs": [
    {
     "name": "stdout",
     "output_type": "stream",
     "text": [
      "\n",
      "Liczba rekordów w pliku: 22760\n"
     ]
    }
   ],
   "source": [
    "num_records = sets.shape[0]\n",
    "print(\"\\nLiczba rekordów w pliku:\", num_records)"
   ]
  },
  {
   "cell_type": "code",
   "execution_count": 19,
   "id": "be26b5fb",
   "metadata": {},
   "outputs": [
    {
     "name": "stdout",
     "output_type": "stream",
     "text": [
      "\n",
      "Nazwy zestawów - pierwsze 10 rekordów:\n",
      "0       Ninjago: Book of Adventures\n",
      "1                             Gears\n",
      "2                 Town Mini-Figures\n",
      "3        Castle 2 for 1 Bonus Offer\n",
      "4                Space Mini-Figures\n",
      "5                Space Mini-Figures\n",
      "6                Space Mini-Figures\n",
      "7                Space Mini-Figures\n",
      "8               Castle Mini Figures\n",
      "9    4.5V Samsonite Gears Motor Set\n",
      "Name: name, dtype: object\n"
     ]
    }
   ],
   "source": [
    "print(\"\\nNazwy zestawów - pierwsze 10 rekordów:\")\n",
    "print(sets[\"name\"].head(10))"
   ]
  },
  {
   "cell_type": "code",
   "execution_count": 20,
   "id": "45cd13f1",
   "metadata": {},
   "outputs": [
    {
     "name": "stdout",
     "output_type": "stream",
     "text": [
      "\n",
      "Minimalny:  1949\n",
      "Maksymalny:  2025\n"
     ]
    }
   ],
   "source": [
    "print(\"\\nMinimalny: \", sets[\"year\"].min())\n",
    "print(\"Maksymalny: \", sets[\"year\"].max())"
   ]
  },
  {
   "cell_type": "code",
   "execution_count": 21,
   "id": "dea1deef",
   "metadata": {},
   "outputs": [
    {
     "name": "stdout",
     "output_type": "stream",
     "text": [
      "\n",
      "Minimalny:  0\n",
      "Maksymalny:  11695\n",
      "Średnia:  162.27227592267135\n"
     ]
    }
   ],
   "source": [
    "print(\"\\nMinimalny: \", sets[\"num_parts\"].min())\n",
    "print(\"Maksymalny: \", sets[\"num_parts\"].max())\n",
    "print(\"Średnia: \", sets[\"num_parts\"].mean())"
   ]
  },
  {
   "cell_type": "code",
   "execution_count": 26,
   "id": "46ee9161",
   "metadata": {},
   "outputs": [
    {
     "name": "stdout",
     "output_type": "stream",
     "text": [
      "\n",
      "Liczba zestawów z liczbą elementów > 0: 17691\n"
     ]
    }
   ],
   "source": [
    "sets_filtered = sets[ sets[\"num_parts\"] > 0]\n",
    "print(\"\\nLiczba zestawów z liczbą elementów > 0:\", sets_filtered.shape[0])"
   ]
  },
  {
   "cell_type": "code",
   "execution_count": 29,
   "id": "0c3572c9",
   "metadata": {},
   "outputs": [
    {
     "name": "stdout",
     "output_type": "stream",
     "text": [
      "\n",
      "Liczba zestawów z roku 2002: 580\n"
     ]
    }
   ],
   "source": [
    "birth_year = 2002\n",
    "sets_birth_year = sets[ sets[\"year\"] == birth_year ]\n",
    "print(f\"\\nLiczba zestawów z roku {birth_year}:\", sets_birth_year.shape[0])"
   ]
  },
  {
   "cell_type": "code",
   "execution_count": 38,
   "id": "ceef18a6",
   "metadata": {},
   "outputs": [
    {
     "data": {
      "image/png": "[encoded data removed]",
      "text/plain": [
       "<Figure size 1000x600 with 1 Axes>"
      ]
     },
     "metadata": {},
     "output_type": "display_data"
    }
   ],
   "source": [
    "plt.figure(figsize=(10,6))\n",
    "plt.scatter(sets['year'], sets['num_parts'], c='blue')\n",
    "plt.title('Liczba elementów w zestawie na przestrzeni lat')\n",
    "plt.xlabel('Rok')\n",
    "plt.ylabel('Liczba elementów')\n",
    "plt.show()"
   ]
  }
 ],
 "metadata": {
  "kernelspec": {
   "display_name": "Python 3 (ipykernel)",
   "language": "python",
   "name": "python3"
  },
  "language_info": {
   "codemirror_mode": {
    "name": "ipython",
    "version": 3
   },
   "file_extension": ".py",
   "mimetype": "text/x-python",
   "name": "python",
   "nbconvert_exporter": "python",
   "pygments_lexer": "ipython3",
   "version": "3.11.5"
  }
 },
 "nbformat": 4,
 "nbformat_minor": 5
}
